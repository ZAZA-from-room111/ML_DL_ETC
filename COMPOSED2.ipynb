{
 "cells": [
  {
   "cell_type": "code",
   "execution_count": 11,
   "metadata": {},
   "outputs": [],
   "source": [
    "from pyknon.genmidi import Midi\n",
    "from pyknon.music import NoteSeq, Note, Rest\n",
    "from src.MarkovMusic import MusicMatrix\n",
    "from pprint import pprint"
   ]
  },
  {
   "cell_type": "code",
   "execution_count": 12,
   "metadata": {},
   "outputs": [],
   "source": [
    "def make_midi(midi_path, notes, bpm=120):\n",
    "    note_names = 'c c# d d# e f f# g g# a a# b'.split()\n",
    "\n",
    "    result = NoteSeq()\n",
    "    for n in notes:\n",
    "        duration = 1. / n[1]\n",
    "\n",
    "        if n[0].lower() == 'r':\n",
    "            result.append(Rest(dur=duration))\n",
    "        else:\n",
    "            pitch = n[0][:-1]\n",
    "            octave = int(n[0][-1]) + 1\n",
    "            pitch_number = note_names.index(pitch.lower())\n",
    "            \n",
    "            result.append(Note(pitch_number, octave=octave, dur=duration))\n",
    "            \n",
    "    midi = Midi(number_tracks=1, tempo=bpm)\n",
    "    midi.seq_notes(result, track=0)\n",
    "    midi.write(midi_path)"
   ]
  },
  {
   "cell_type": "code",
   "execution_count": 15,
   "metadata": {},
   "outputs": [],
   "source": [
    "# song = [['c4', 4], ['c4', 4], ['c4', 4], ['d4', 8],\n",
    "#         ['e4', 4], ['e4', 4], ['d4', 8], ['e4', 4], \n",
    "#         ['f4', 8], ['g4', 2], ['c4', 8], ['c4', 8],\n",
    "#         ['c4', 8], ['g4', 8], ['g4', 8], ['g4', 8], \n",
    "#         ['e4', 8], ['e4', 8], ['e4', 8], ['c4', 8], \n",
    "#         ['c4', 8], ['c4', 8], ['g4', 4], ['f4', 8],\n",
    "#         ['e4', 4], ['d4', 8], ['c4', 2]]\n",
    "song_canon = [['g4', 8], ['e4', 16], ['f4', 16], ['g4', 8], ['e4', 16], ['f4', 16], \n",
    "             ['g4', 16], ['g3', 16], ['a3', 16], ['b3', 16], ['c4', 16], ['d4', 16], ['e4', 16], ['f4', 16],\n",
    "             ['e4', 8], ['c4', 16], ['d4', 16], ['e4', 8], ['e3', 16], ['f3', 16],\n",
    "             ['g3', 16], ['a3', 16], ['g3', 16], ['f3', 16], ['g3', 16], ['c4', 16], ['b3', 16], ['c4', 16],\n",
    "             ['a3', 8], ['c4', 16], ['b3', 16], ['a3', 8], ['g3', 16], ['f3', 16],\n",
    "             ['g3', 16], ['f3', 16], ['e3', 16], ['f3', 16], ['g3', 16], ['a3', 16], ['b3', 16], ['c4', 16],\n",
    "             ['a3', 8], ['c4', 16], ['b3', 16], ['c4', 8], ['b3', 16], ['c4', 16],\n",
    "             ['b3', 16], ['a3', 16], ['b3', 16], ['c4', 16], ['d4', 16], ['e4', 16], ['f4', 16], ['g4', 16]]"
   ]
  },
  {
   "cell_type": "code",
   "execution_count": 17,
   "metadata": {},
   "outputs": [],
   "source": [
    "matrix = MusicMatrix(song_canon)"
   ]
  },
  {
   "cell_type": "code",
   "execution_count": 20,
   "metadata": {},
   "outputs": [],
   "source": [
    "start_note = ['g4', 8]\n",
    "\n",
    "random_song = []\n",
    "for i in range(0, 100):\n",
    "    start_note = matrix.next_note(start_note)\n",
    "    random_song.append(start_note)\n",
    "\n",
    "# ps.make_wav(random_song, fn='examples/random.wav')\n",
    "make_midi(midi_path='midi/random_canon.mid', notes=random_song)"
   ]
  },
  {
   "cell_type": "code",
   "execution_count": 21,
   "metadata": {},
   "outputs": [],
   "source": [
    "song_mario = [['c4', 4], ['r', 8], ['g3', 8], ['r', 8], ['e3', 4],\n",
    "             ['r', 8], ['a3', 4], ['b3', 4], ['a#3', 8], ['a3', 4],\n",
    "             ['g3', 4], ['e4', 8], ['g4', 8], ['a4', 4], ['f4', 8], ['g4', 8],\n",
    "             ['r', 8], ['e4', 4], ['c4', 8], ['d4', 8], ['b3', 4], ['r', 8]]"
   ]
  },
  {
   "cell_type": "code",
   "execution_count": 23,
   "metadata": {},
   "outputs": [],
   "source": [
    "start_note2 = ['g3', 8]\n",
    "\n",
    "random_song2 = []\n",
    "for i in range(0, 100):\n",
    "    start_note2 = matrix.next_note(start_note2)\n",
    "    random_song2.append(start_note2)\n",
    "\n",
    "# ps.make_wav(random_song, fn='examples/random.wav')\n",
    "make_midi(midi_path='midi/random_mario.mid', notes=random_song2)"
   ]
  },
  {
   "cell_type": "code",
   "execution_count": 24,
   "metadata": {},
   "outputs": [
    {
     "name": "stdout",
     "output_type": "stream",
     "text": [
      "[[0, 1, 0, 0, 0, 0, 0, 0, 0, 0, 0, 0, 0],\n",
      " [0, 0, 0, 4, 2, 0, 0, 0, 0, 0, 3, 0, 0],\n",
      " [0, 0, 0, 0, 0, 0, 0, 0, 0, 1, 0, 0, 0],\n",
      " [1, 2, 0, 0, 6, 0, 0, 0, 0, 0, 0, 0, 1],\n",
      " [0, 2, 0, 5, 0, 4, 0, 0, 0, 0, 0, 0, 1],\n",
      " [0, 0, 0, 1, 0, 0, 0, 3, 0, 0, 0, 0, 0],\n",
      " [0, 0, 0, 0, 0, 0, 0, 0, 2, 0, 0, 0, 1],\n",
      " [0, 0, 0, 0, 2, 0, 1, 0, 0, 4, 0, 1, 0],\n",
      " [0, 0, 0, 0, 0, 0, 1, 0, 0, 0, 4, 0, 0],\n",
      " [0, 0, 0, 0, 0, 0, 0, 1, 0, 0, 0, 4, 0],\n",
      " [0, 3, 0, 0, 1, 0, 0, 1, 3, 0, 0, 0, 1],\n",
      " [0, 0, 1, 0, 1, 0, 0, 2, 0, 0, 1, 0, 1],\n",
      " [0, 1, 0, 0, 0, 0, 1, 1, 0, 0, 1, 0, 0]]\n",
      "[[40, 1, 7], [0, 2, 7], [8, 6, 6]]\n"
     ]
    }
   ],
   "source": [
    "song = list(song_canon) + list(song_mario)\n",
    "\n",
    "matrix = MusicMatrix(song)\n",
    "\n",
    "pprint(matrix._markov._matrix)\n",
    "pprint(matrix._timings._matrix)\n",
    "\n",
    "start_note3 = ['g3', 8]\n",
    "\n",
    "random_song3 = []\n",
    "for i in range(0, 500):\n",
    "    start_note3 = matrix.next_note(start_note3)\n",
    "    random_song3.append(start_note3)\n",
    "\n",
    "# ps.make_wav(random_song, fn='examples/random_mix.wav')\n",
    "make_midi(midi_path='midi/random_canon_and_mario.mid', notes=random_song3)"
   ]
  },
  {
   "cell_type": "markdown",
   "metadata": {},
   "source": [
    "https://onlinesequencer.net/import"
   ]
  },
  {
   "cell_type": "code",
   "execution_count": null,
   "metadata": {},
   "outputs": [],
   "source": []
  }
 ],
 "metadata": {
  "kernelspec": {
   "display_name": "Python 3",
   "language": "python",
   "name": "python3"
  },
  "language_info": {
   "codemirror_mode": {
    "name": "ipython",
    "version": 3
   },
   "file_extension": ".py",
   "mimetype": "text/x-python",
   "name": "python",
   "nbconvert_exporter": "python",
   "pygments_lexer": "ipython3",
   "version": "3.7.4"
  }
 },
 "nbformat": 4,
 "nbformat_minor": 2
}
