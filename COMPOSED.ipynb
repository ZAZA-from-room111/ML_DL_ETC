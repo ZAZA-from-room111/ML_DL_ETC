{
 "cells": [
  {
   "cell_type": "code",
   "execution_count": 1,
   "metadata": {},
   "outputs": [],
   "source": [
    "from pyknon.genmidi import Midi"
   ]
  },
  {
   "cell_type": "code",
   "execution_count": 2,
   "metadata": {},
   "outputs": [],
   "source": [
    "from pyknon.music import NoteSeq, Note, Rest"
   ]
  },
  {
   "cell_type": "code",
   "execution_count": 3,
   "metadata": {},
   "outputs": [],
   "source": [
    "import random"
   ]
  },
  {
   "cell_type": "code",
   "execution_count": 40,
   "metadata": {},
   "outputs": [],
   "source": [
    "notes1 = NoteSeq('E4 E4 E4 C4 E4 G4 G3 C4 G3 E3 A3 B3 A3 G#3 A#3 E3 D3 E3')\n",
    "midi = Midi(number_tracks=1, tempo=90)\n",
    "midi.seq_notes(notes1, track=0)\n",
    "midi.write('demo.mid')"
   ]
  },
  {
   "cell_type": "code",
   "execution_count": 37,
   "metadata": {},
   "outputs": [],
   "source": [
    "duration = [\n",
    "    1/2,\n",
    "    1/4,\n",
    "    1/8,\n",
    "    1/16\n",
    "]\n",
    "'''\n",
    "0  1  2  3  4  5  6  7  8  9  10  11\n",
    "C  C# D  D# E  F  F# G  G# A  A#  B\n",
    "'''\n",
    "\n",
    "# C_major = ['C', 'D', 'E', 'F', 'G', 'A', 'B']\n",
    "C_major = [0, 2, 4, 5, 7, 9, 11] \n",
    "# D_major = ['D', 'E', 'F#', 'G', 'A', 'B', 'C#']\n",
    "D_major = [2, 4, 6, 7, 9, 11, 1]\n",
    "# E_major = ['E', 'F#', 'G#', 'A', 'B', 'C#', 'D#']\n",
    "E_major = [4, 6, 8, 9, 11, 1, 3]\n",
    "# F_major = ['F', 'G', 'A', 'A#', 'C', 'D', 'E']\n",
    "F_major = [5, 7, 9, 10, 0, 2, 4]\n",
    "# G_major = ['G', 'A', 'B', 'C', 'D', 'E', 'F#']\n",
    "G_major = [7, 9, 11, 0, 2, 4, 6]\n",
    "# A_major = ['A', 'B', 'C#', 'D', 'E', 'F#', 'G#']\n",
    "A_major = [9, 11, 1, 2, 4, 6, 8]\n",
    "# B_major = ['B', 'C#', 'D#', 'E', 'F#', 'G#', 'A']\n",
    "B_major = [11, 1, 3, 4, 6, 8, 10]\n",
    "# Db_major = ['C#', 'D#', 'F', 'G', 'G#', 'A#', 'C']\n",
    "Db_major = [1, 3, 5, 7, 8, 10, 0]\n",
    "def get_random_notes(n, pitches, durations, rests=True):\n",
    "    if rests:\n",
    "        pitches.append('r')\n",
    "        \n",
    "    result = NoteSeq()\n",
    "\n",
    "    for i in range(n):\n",
    "        pitch = random.choice(pitches)\n",
    "        duration = random.choice(durations)\n",
    "        \n",
    "        if pitch == 'r':\n",
    "            result.append(Rest(dur=duration))\n",
    "        else:\n",
    "            result.append(Note(pitch, octave=4, dur=duration))\n",
    "\n",
    "    return result"
   ]
  },
  {
   "cell_type": "code",
   "execution_count": 41,
   "metadata": {},
   "outputs": [
    {
     "name": "stdout",
     "output_type": "stream",
     "text": [
      "<Seq: [<F>, <F>, <G#>, <C>, <R: 0.0625>, <F>, <A#>, <G#>, <F>, <C#>, <A#>, <A#>, <D#>, <G>, <R: 0.5>, <R: 0.5>, <D#>, <D#>, <C>, <R: 0.0625>, <R: 0.125>, <R: 0.5>, <C#>, <F>, <D#>, <G>, <G>, <D#>, <G>, <C#>, <G#>, <C>, <R: 0.25>, <D#>, <D#>, <F>, <A#>, <C#>, <R: 0.0625>, <C>]>\n"
     ]
    }
   ],
   "source": [
    "notes1 = get_random_notes(40, pitches=Db_major, durations=[1/2, 1/4, 1/8, 1/16])\n",
    "midi = Midi(number_tracks=1, tempo=120)\n",
    "midi.seq_notes(notes1, track=0)\n",
    "midi.write('Bb_major2.mid')\n",
    "\n",
    "print(notes1)"
   ]
  },
  {
   "cell_type": "code",
   "execution_count": null,
   "metadata": {},
   "outputs": [],
   "source": [
    "x"
   ]
  }
 ],
 "metadata": {
  "kernelspec": {
   "display_name": "Python 3",
   "language": "python",
   "name": "python3"
  },
  "language_info": {
   "codemirror_mode": {
    "name": "ipython",
    "version": 3
   },
   "file_extension": ".py",
   "mimetype": "text/x-python",
   "name": "python",
   "nbconvert_exporter": "python",
   "pygments_lexer": "ipython3",
   "version": "3.7.4"
  }
 },
 "nbformat": 4,
 "nbformat_minor": 2
}
