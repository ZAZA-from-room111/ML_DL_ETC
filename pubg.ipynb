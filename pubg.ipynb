{
 "cells": [
  {
   "cell_type": "markdown",
   "metadata": {},
   "source": [
    "# BATTLE GROUND DATA SET"
   ]
  },
  {
   "cell_type": "markdown",
   "metadata": {},
   "source": [
    "<h2> 1. 데이터 셋 확인하기"
   ]
  },
  {
   "cell_type": "code",
   "execution_count": null,
   "metadata": {},
   "outputs": [],
   "source": [
    "import numpy as np\n",
    "import pandas as pd\n",
    "import matplotlib.pyplot as plt\n",
    "import seaborn as sns\n",
    "import keras\n",
    "import sklearn\n",
    "import warnings\n",
    "warnings.filterwarnings('ignore')"
   ]
  },
  {
   "cell_type": "code",
   "execution_count": null,
   "metadata": {},
   "outputs": [],
   "source": [
    "df_train = pd.read_csv('train_V2.csv')\n",
    "df_test = pd.read_csv('test_V2.csv')"
   ]
  },
  {
   "cell_type": "code",
   "execution_count": null,
   "metadata": {},
   "outputs": [],
   "source": [
    "df_train.shape, df_test.shape"
   ]
  },
  {
   "cell_type": "markdown",
   "metadata": {},
   "source": [
    "각 파일을 확인해보니<br>\n",
    "train 할 데이터의 수는 4,446,966 개,<br>\n",
    "test 할 데이터의 수는 1,934,175개 입니다.<br>"
   ]
  },
  {
   "cell_type": "code",
   "execution_count": null,
   "metadata": {},
   "outputs": [],
   "source": [
    "df_train.columns"
   ]
  },
  {
   "cell_type": "markdown",
   "metadata": {},
   "source": [
    "각각의 attribute 가 있고, 예측해야할 것은 'winPlacePerc"
   ]
  },
  {
   "cell_type": "code",
   "execution_count": null,
   "metadata": {},
   "outputs": [],
   "source": [
    "df_test.columns"
   ]
  },
  {
   "cell_type": "markdown",
   "metadata": {},
   "source": [
    "* Id - 플레이어의 Id\n",
    "* groupId - 경기 내의 그룹을 식별하는 ID. 현재 그룹의 선수들이 서로 다른 경기에서 경기한다면, 그들은 매번 다른 groupId를 갖게 될 것이다.\n",
    "* matchId - 경기를 식별하기 위한 ID. train set과 test set에 모두 있는 시합은 없다.\n",
    "* matchDuration - 경기 시간.\n",
    "* matchType - 경기 종류(duo, quad ...).\n",
    "* assists - 팀 동료들과 같이 죽인 적 수이다.\n",
    "* boosts - 부스트 아이템 사용한 수.\n",
    "* damageDealt - 가한 데미지 총량. Note: 자신에게 가한 데미지는 제외.\n",
    "* DBNOs - 빈사상태로 만든 적의 수.\n",
    "* headshotKills - 헤드샷 으로 처리한 적의 수.\n",
    "* heals - 치료 아이템 사용 수.\n",
    "* killPlace - 경기에서 처치한 적의 수 랭킹.\n",
    "* killPoints - 플레이어의 처치 기반 외부 랭킹 (Elo 방식의 순위). rankPoints에서 -1이 아닌 값이 있는 경우, killPoints에서 0은 \"없음\"으로 처리되어야 한다.\n",
    "* kills - 처치한 적의 수.\n",
    "* killStreaks - 단기간에 가장 많이 처치한 적의 최대치.\n",
    "* longestKill - 플레이어가 적을 죽인 가장 긴 거리. 선수를 다운시키고 멀리 운전하는 것이 가장 긴 처치로 이어질 수 있기 때문에 오해의 소지가 있을 수 있다.\n",
    "* maxPlace - 경기에서 가장 순위가 낮은 것에 대한 데이터. 이것은 순위를 건너뛸 수도 있기 때문에 numGroups와 일치하지 않을 수 있다.\n",
    "* numGroups - 경기에 있는 팀의 수.\n",
    "* rankPoints - Elo 방식의 플레이어 랭킹. 다음 버전의 API에서는 삭제될 예정이기 때문에 사용에 주의. '-1' 값은 순위가 \"None\" 이다.\n",
    "* revives - 플레이어가 팀원 회복 시킨 수.\n",
    "* rideDistance - 차량으로 이동한 거리(단위 : 미터).\n",
    "* roadKills - 차량으로 죽인 플레이어 수.\n",
    "* swimDistance - 수영한 거리(단위 : 미터).\n",
    "* teamKills - 팀킬한 횟수.\n",
    "* vehicleDestroys - 차량을 폭파시킨 횟수.\n",
    "* walkDistance - 걸은 총 거리(단위 : 미터).\n",
    "* weaponsAcquired - 무기 얻은 갯수.\n",
    "* winPoints - 플레이어의 승리 기반 외부 랭킹 (Elo 방식의 순위). rankPoints에서 -1이 아닌 값이 있는 경우, winPoints에서 0은 \"없음\"으로 처리되어야 한다.\n",
    "* winPlacePerc - 예측 목표. 순위의 퍼센트로 표시되며, 1이면 경기에서 1등이고 0이면 경기에서 꼴지 했다는 것이다. 이것은 numGroups로 계산되는게 아니라, maxPlace로 계산되기 때문에 누락되는 것이 있을수도다."
   ]
  },
  {
   "cell_type": "markdown",
   "metadata": {},
   "source": [
    "파일을 출력해보면"
   ]
  },
  {
   "cell_type": "code",
   "execution_count": null,
   "metadata": {},
   "outputs": [],
   "source": [
    "df_train.head()"
   ]
  },
  {
   "cell_type": "markdown",
   "metadata": {},
   "source": [
    "각 feature를 살펴보면"
   ]
  },
  {
   "cell_type": "code",
   "execution_count": null,
   "metadata": {},
   "outputs": [],
   "source": [
    "df_train.dtypes"
   ]
  },
  {
   "cell_type": "code",
   "execution_count": null,
   "metadata": {},
   "outputs": [],
   "source": [
    "df_train.describe()"
   ]
  },
  {
   "cell_type": "code",
   "execution_count": null,
   "metadata": {},
   "outputs": [],
   "source": [
    "df_train.isnull().sum()"
   ]
  },
  {
   "cell_type": "code",
   "execution_count": null,
   "metadata": {},
   "outputs": [],
   "source": [
    "df_test.isnull().sum()"
   ]
  },
  {
   "cell_type": "markdown",
   "metadata": {},
   "source": [
    "train 데이터에서 winPlacePerc 피쳐에 1개의 결측치가 있당"
   ]
  },
  {
   "cell_type": "markdown",
   "metadata": {},
   "source": [
    "<h2> 2. 탐색적 데이터 분석 (EDA, Exploratory Data Analysis)"
   ]
  },
  {
   "cell_type": "markdown",
   "metadata": {},
   "source": [
    "<h3> 2-1. assists"
   ]
  },
  {
   "cell_type": "code",
   "execution_count": null,
   "metadata": {},
   "outputs": [],
   "source": [
    "df_copy = df_train.copy()"
   ]
  },
  {
   "cell_type": "code",
   "execution_count": null,
   "metadata": {},
   "outputs": [],
   "source": [
    "df_train['assists'].mean()"
   ]
  },
  {
   "cell_type": "code",
   "execution_count": null,
   "metadata": {},
   "outputs": [],
   "source": [
    "df_train['assists'].quantile(0.99)"
   ]
  },
  {
   "cell_type": "code",
   "execution_count": null,
   "metadata": {},
   "outputs": [],
   "source": [
    "df_train['assists'].max()"
   ]
  },
  {
   "cell_type": "code",
   "execution_count": null,
   "metadata": {},
   "outputs": [],
   "source": [
    "df_copy1 = df_train.copy()\n",
    "df_copy1.loc[df_copy1['assists'] > df_copy1['assists'].quantile(0.99)] = '4+'\n",
    "sns.countplot(df_copy1['assists'].astype('str').sort_values())\n",
    "plt.title(\"Count of Assistant\",fontsize=15)"
   ]
  },
  {
   "cell_type": "markdown",
   "metadata": {},
   "source": [
    "대부분의 사람들이 어시스트를 하지 않는다"
   ]
  },
  {
   "cell_type": "code",
   "execution_count": null,
   "metadata": {},
   "outputs": [],
   "source": [
    "df_copy2 = df_train.copy()\n",
    "df_copy2 = df_copy2[df_copy2['assists']==0]\n",
    "plt.figure(figsize=(15, 10))\n",
    "plt.title(\"Kill Count of 0 Assists\",fontsize=15)\n",
    "sns.distplot(df_copy2['kills'])"
   ]
  },
  {
   "cell_type": "markdown",
   "metadata": {},
   "source": [
    "어이스트가 없는 플레이어는 킬 또한 하지 못한다 ㅠㅠ"
   ]
  },
  {
   "cell_type": "markdown",
   "metadata": {},
   "source": [
    "<h2> 2-2. Heal & Boosts\n"
   ]
  },
  {
   "cell_type": "code",
   "execution_count": null,
   "metadata": {},
   "outputs": [],
   "source": [
    "df_train['boosts'].mean(), df_train['heals'].mean()"
   ]
  },
  {
   "cell_type": "code",
   "execution_count": null,
   "metadata": {},
   "outputs": [],
   "source": [
    "df_train['boosts'].quantile(0.99), df_train['heals'].quantile(0.99)"
   ]
  },
  {
   "cell_type": "code",
   "execution_count": null,
   "metadata": {},
   "outputs": [],
   "source": [
    "df_train['boosts'].max(), df_train['heals'].max()"
   ]
  },
  {
   "cell_type": "code",
   "execution_count": null,
   "metadata": {},
   "outputs": [],
   "source": [
    "df_copy3 = df_train.copy()\n",
    "df_copy3.loc[df_copy3['boosts'] > df_copy3['boosts'].quantile(0.99)] = '8+'\n",
    "sns.countplot(df_copy3['boosts'].astype('str').sort_values())\n",
    "plt.title(\"Count of Boosts used\",fontsize=15)"
   ]
  },
  {
   "cell_type": "code",
   "execution_count": null,
   "metadata": {},
   "outputs": [],
   "source": [
    "df_copy4 = df_train.copy()\n",
    "df_copy4.loc[df_copy4['heals'] > df_copy4['heals'].quantile(0.99)] = '13+'\n",
    "sns.countplot(df_copy4['heals'].astype('str'))\n",
    "plt.title(\"Count of Heal used\",fontsize=15)"
   ]
  },
  {
   "cell_type": "markdown",
   "metadata": {},
   "source": [
    "대부분의 사람들이 boost 아이템과 heal 아이템을 사용하지 않는다<br>\n",
    "이러한 아이템은 당연히 우승과 어떤 관련이 있을까?(당연 많이쓸수록 우승확률이 높아지겠찌만)"
   ]
  },
  {
   "cell_type": "code",
   "execution_count": null,
   "metadata": {},
   "outputs": [],
   "source": [
    "plt.figure(figsize=(8, 6))\n",
    "sns.boxplot(x='boosts', y=\"winPlacePerc\", data=df_train)"
   ]
  },
  {
   "cell_type": "code",
   "execution_count": null,
   "metadata": {},
   "outputs": [],
   "source": [
    "plt.figure(figsize=(8, 6))\n",
    "sns.boxplot(x='heals', y=\"winPlacePerc\", data=df_train)"
   ]
  },
  {
   "cell_type": "code",
   "execution_count": null,
   "metadata": {},
   "outputs": [],
   "source": [
    "sns.jointplot(x=\"winPlacePerc\", y=\"boosts\", data=df_train)"
   ]
  },
  {
   "cell_type": "code",
   "execution_count": null,
   "metadata": {},
   "outputs": [],
   "source": [
    "sns.jointplot(x=\"winPlacePerc\", y=\"heals\", data=df_train)"
   ]
  },
  {
   "cell_type": "markdown",
   "metadata": {},
   "source": [
    "이로써 부스트, 힐링 아이템은 우승과 양의 상관관계를 가진다!"
   ]
  },
  {
   "cell_type": "markdown",
   "metadata": {},
   "source": [
    "<h2> 2-3. Kill"
   ]
  },
  {
   "cell_type": "code",
   "execution_count": null,
   "metadata": {},
   "outputs": [],
   "source": [
    "df_train['kills'].mean()"
   ]
  },
  {
   "cell_type": "code",
   "execution_count": null,
   "metadata": {},
   "outputs": [],
   "source": [
    "df_train['kills'].quantile(0.99)"
   ]
  },
  {
   "cell_type": "code",
   "execution_count": null,
   "metadata": {},
   "outputs": [],
   "source": [
    "df_train['kills'].max()"
   ]
  },
  {
   "cell_type": "code",
   "execution_count": null,
   "metadata": {},
   "outputs": [],
   "source": [
    "df_copy = df_train.copy()\n",
    "df_copy.loc[df_copy['kills'] > 7 ] = '8+'\n",
    "sns.countplot(df_copy['kills'].astype(str).sort_values())\n",
    "plt.title('Count of Kill')"
   ]
  },
  {
   "cell_type": "markdown",
   "metadata": {},
   "source": [
    "대부분의 플레이어가 1킬도 못하고 죽는당 ㅠㅠ"
   ]
  },
  {
   "cell_type": "code",
   "execution_count": null,
   "metadata": {},
   "outputs": [],
   "source": [
    "df_copy = df_train.copy()\n",
    "df_copy = df_copy[df_copy['kills'] > 0]\n",
    "plt.figure(figsize=(15, 10))\n",
    "plt.title('headshot by 0 killers',fontsize=15)\n",
    "sns.distplot(df_train['headshotKills'])"
   ]
  },
  {
   "cell_type": "markdown",
   "metadata": {},
   "source": [
    "또한 보통 플레이어가 헤드샷을 하지 않고(못하고), 1에서 2 해드샷 킬 정도 한다"
   ]
  },
  {
   "cell_type": "code",
   "execution_count": null,
   "metadata": {},
   "outputs": [],
   "source": [
    "df_copy = df_train.copy()\n",
    "df_copy = df_copy[df_copy['kills'] == 0]\n",
    "plt.figure(figsize=(15, 10))\n",
    "plt.title('damage dealt for 0 kill players',fontsize=15)\n",
    "sns.distplot(df_train['damageDealt'])"
   ]
  },
  {
   "cell_type": "markdown",
   "metadata": {},
   "source": [
    "0킬 한 플레이어들은 또한 다른 플레이어들에게 데미지를 주지 못한다.."
   ]
  },
  {
   "cell_type": "code",
   "execution_count": null,
   "metadata": {
    "scrolled": false
   },
   "outputs": [],
   "source": [
    "sns.jointplot(x=\"winPlacePerc\", y=\"kills\", data=df_train)"
   ]
  },
  {
   "cell_type": "markdown",
   "metadata": {},
   "source": [
    "킬 수 또한 우승확률과 양의 상관관계가 이따"
   ]
  },
  {
   "cell_type": "code",
   "execution_count": null,
   "metadata": {
    "scrolled": true
   },
   "outputs": [],
   "source": [
    "sns.countplot(df_train['teamKills'])"
   ]
  },
  {
   "cell_type": "markdown",
   "metadata": {},
   "source": [
    "대부분의 사람들이 팀킬은 하지 않는다"
   ]
  },
  {
   "cell_type": "code",
   "execution_count": null,
   "metadata": {},
   "outputs": [],
   "source": [
    "sns.jointplot(x=\"winPlacePerc\", y=\"teamKills\", data=df_train)"
   ]
  },
  {
   "cell_type": "markdown",
   "metadata": {},
   "source": [
    "<h2> 2-4. Revive"
   ]
  },
  {
   "cell_type": "code",
   "execution_count": null,
   "metadata": {},
   "outputs": [],
   "source": [
    "df_train['revives'].value_counts()"
   ]
  },
  {
   "cell_type": "code",
   "execution_count": null,
   "metadata": {},
   "outputs": [],
   "source": [
    "df_train['revives'].quantile(0.99)"
   ]
  },
  {
   "cell_type": "code",
   "execution_count": null,
   "metadata": {},
   "outputs": [],
   "source": [
    "df_train[df_train['revives'] > 3]['revives'].sum()"
   ]
  },
  {
   "cell_type": "code",
   "execution_count": null,
   "metadata": {},
   "outputs": [],
   "source": [
    "labels = ['0', '1', '2', '3', '3+']\n",
    "sizes = [3859867, 470110, 95545, 17333, 19034]\n",
    "colors = ['yellowgreen', 'gold', 'lightskyblue', 'lightcoral', 'black']\n",
    "explode = (1, 1, 1, 1, 1)\n",
    "plt.title(\"Perc. of Revives\", fontsize=15)\n",
    "plt.pie(sizes, colors=colors, autopct='%1.1f%%', labels=labels)\n",
    "plt.axis('equal')"
   ]
  },
  {
   "cell_type": "markdown",
   "metadata": {},
   "source": [
    "약 86.5% 플레이어가 부활하지 못한다"
   ]
  },
  {
   "cell_type": "markdown",
   "metadata": {},
   "source": [
    "<h2> 2-5. Distance"
   ]
  },
  {
   "cell_type": "code",
   "execution_count": null,
   "metadata": {},
   "outputs": [],
   "source": [
    "plt.figure(figsize=(15, 10))\n",
    "sns.distplot(df_train['rideDistance'], color='red')\n",
    "plt.title('Ride Distance', fontsize=15)"
   ]
  },
  {
   "cell_type": "code",
   "execution_count": null,
   "metadata": {},
   "outputs": [],
   "source": [
    "plt.figure(figsize=(15, 10))\n",
    "sns.distplot(df_train['swimDistance'], color='blue')\n",
    "plt.title('Swim Distance', fontsize=15)"
   ]
  },
  {
   "cell_type": "code",
   "execution_count": null,
   "metadata": {},
   "outputs": [],
   "source": [
    "plt.figure(figsize=(15, 10))\n",
    "sns.distplot(df_train['walkDistance'], color='green')\n",
    "plt.title('Walk Distance', fontsize=15)"
   ]
  },
  {
   "cell_type": "code",
   "execution_count": null,
   "metadata": {},
   "outputs": [],
   "source": [
    "sns.jointplot(x=\"rideDistance\", y=\"kills\", data=df_train)"
   ]
  },
  {
   "cell_type": "markdown",
   "metadata": {},
   "source": [
    "차를 타고 가는 거리가 멀어질 수록 킬 수는 적어진다"
   ]
  },
  {
   "cell_type": "code",
   "execution_count": null,
   "metadata": {},
   "outputs": [],
   "source": [
    "sns.jointplot(x=\"swimDistance\", y=\"kills\", data=df_train)"
   ]
  },
  {
   "cell_type": "code",
   "execution_count": null,
   "metadata": {},
   "outputs": [],
   "source": [
    "sns.jointplot(x=\"walkDistance\", y=\"kills\", data=df_train)"
   ]
  },
  {
   "cell_type": "markdown",
   "metadata": {},
   "source": [
    "거리는 길어질 수록 킬 수가 적어진다"
   ]
  },
  {
   "cell_type": "code",
   "execution_count": null,
   "metadata": {},
   "outputs": [],
   "source": [
    "sns.jointplot(x=\"winPlacePerc\", y=\"walkDistance\", data=df_train)"
   ]
  },
  {
   "cell_type": "markdown",
   "metadata": {},
   "source": [
    "하지만 거리가 길어질 수록 승리 확률은 높아진다"
   ]
  },
  {
   "cell_type": "markdown",
   "metadata": {},
   "source": [
    "<h2> 2-6. Others"
   ]
  },
  {
   "cell_type": "code",
   "execution_count": null,
   "metadata": {},
   "outputs": [],
   "source": [
    "df_train['vehicleDestroys'].value_counts()"
   ]
  },
  {
   "cell_type": "code",
   "execution_count": null,
   "metadata": {},
   "outputs": [],
   "source": [
    "df_train[df_train['vehicleDestroys']>1]['vehicleDestroys'].sum()"
   ]
  },
  {
   "cell_type": "code",
   "execution_count": null,
   "metadata": {},
   "outputs": [],
   "source": [
    "labels = ['0', '1', '2+']\n",
    "sizes = [4413212, 32422, 2790]\n",
    "colors = ['yellowgreen', 'gold', 'lightskyblue']\n",
    "explode = (0, 0, 0)\n",
    "plt.title(\"Perc. of Vehicle Destroys\", fontsize=15)\n",
    "plt.pie(sizes, colors=colors, autopct='%1.1f%%', labels=labels)\n",
    "plt.axis('equal')"
   ]
  },
  {
   "cell_type": "code",
   "execution_count": null,
   "metadata": {},
   "outputs": [],
   "source": [
    "plt.scatter(x=\"weaponsAcquired\",y=\"winPlacePerc\", data=df_train)"
   ]
  },
  {
   "cell_type": "markdown",
   "metadata": {},
   "source": [
    "<h2> 2-7. Corr."
   ]
  },
  {
   "cell_type": "code",
   "execution_count": null,
   "metadata": {},
   "outputs": [],
   "source": [
    "f,ax = plt.subplots(figsize=(15, 15))\n",
    "sns.heatmap(df_train.corr(), annot=True, linewidths=.5, fmt= '.1f')\n",
    "plt.show()"
   ]
  },
  {
   "cell_type": "code",
   "execution_count": null,
   "metadata": {},
   "outputs": [],
   "source": [
    "k = 10\n",
    "corr = df_train.corr()\n",
    "column = corr.nlargest(k, 'winPlacePerc').index"
   ]
  },
  {
   "cell_type": "code",
   "execution_count": null,
   "metadata": {},
   "outputs": [],
   "source": [
    "colcoef = np.corrcoef(df_train[column].values.T)"
   ]
  },
  {
   "cell_type": "code",
   "execution_count": null,
   "metadata": {
    "scrolled": false
   },
   "outputs": [],
   "source": [
    "f, ax = plt.subplots(figsize=(15, 10))\n",
    "sns.heatmap(colcoef, annot=True, xticklabels=column.values, yticklabels=column.values)"
   ]
  },
  {
   "cell_type": "code",
   "execution_count": null,
   "metadata": {},
   "outputs": [],
   "source": [
    "df_train[df_train['winPlacePerc'].isnull()]"
   ]
  },
  {
   "cell_type": "code",
   "execution_count": null,
   "metadata": {},
   "outputs": [],
   "source": [
    "df_train[df_train.Id == 'f70c74418bb064']"
   ]
  },
  {
   "cell_type": "code",
   "execution_count": null,
   "metadata": {},
   "outputs": [],
   "source": [
    "df_train = df_train[df_train.Id != 'f70c74418bb064']"
   ]
  },
  {
   "cell_type": "code",
   "execution_count": null,
   "metadata": {},
   "outputs": [],
   "source": [
    "df_train"
   ]
  },
  {
   "cell_type": "code",
   "execution_count": null,
   "metadata": {},
   "outputs": [],
   "source": [
    "df_train.head()"
   ]
  },
  {
   "cell_type": "code",
   "execution_count": null,
   "metadata": {},
   "outputs": [],
   "source": [
    "df_train[\"distance\"] = df_train[\"rideDistance\"] + df_train[\"walkDistance\"] + df_train[\"swimDistance\"]\n",
    "df_test[\"distance\"] = df_test[\"rideDistance\"] + df_test[\"walkDistance\"] + df_test[\"swimDistance\"]\n",
    "df_train.drop(['rideDistance','walkDistance','swimDistance','headshotKills','roadKills'],inplace=True, axis=1)\n",
    "df_test.drop(['rideDistance','walkDistance','swimDistance','headshotKills','roadKills'],inplace=True,axis=1)"
   ]
  },
  {
   "cell_type": "code",
   "execution_count": null,
   "metadata": {
    "scrolled": true
   },
   "outputs": [],
   "source": [
    "df_train.head()"
   ]
  },
  {
   "cell_type": "code",
   "execution_count": null,
   "metadata": {
    "scrolled": false
   },
   "outputs": [],
   "source": [
    "df_train[\"items\"] = df_train[\"boosts\"] + df_train[\"heals\"]\n",
    "df_test[\"items\"] = df_train[\"boosts\"] + df_train[\"heals\"]\n",
    "df_train.drop(['boosts', 'heals'],inplace=True, axis=1)\n",
    "df_test.drop(['boosts', 'heals'],inplace=True, axis=1)"
   ]
  },
  {
   "cell_type": "code",
   "execution_count": null,
   "metadata": {},
   "outputs": [],
   "source": [
    "k = 12\n",
    "corr = df_train.corr()\n",
    "column = corr.nlargest(k, 'winPlacePerc').index\n",
    "colcoef = np.corrcoef(df_train[column].values.T)\n",
    "f, ax = plt.subplots(figsize=(15, 10))\n",
    "sns.heatmap(colcoef, annot=True, xticklabels=column.values, yticklabels=column.values)"
   ]
  },
  {
   "cell_type": "code",
   "execution_count": null,
   "metadata": {},
   "outputs": [],
   "source": [
    "f,ax = plt.subplots(figsize=(15, 15))\n",
    "sns.heatmap(df_train.corr(), annot=True, linewidths=.5, fmt= '.1f')\n",
    "plt.show()"
   ]
  },
  {
   "cell_type": "code",
   "execution_count": null,
   "metadata": {},
   "outputs": [],
   "source": [
    "df_train.columns"
   ]
  },
  {
   "cell_type": "code",
   "execution_count": null,
   "metadata": {},
   "outputs": [],
   "source": [
    "train_feat = ['assists', 'damageDealt', 'DBNOs',\n",
    "       'killPlace', 'killPoints', 'kills', 'killStreaks', 'longestKill',\n",
    "       'maxPlace', 'numGroups', 'rankPoints',\n",
    "       'revives', 'vehicleDestroys', 'weaponsAcquired',\n",
    "       'winPoints', 'distance', 'items']"
   ]
  },
  {
   "cell_type": "code",
   "execution_count": null,
   "metadata": {},
   "outputs": [],
   "source": [
    "X = df_train[train_feat]"
   ]
  },
  {
   "cell_type": "code",
   "execution_count": null,
   "metadata": {},
   "outputs": [],
   "source": [
    "Y = df_train['winPlacePerc']"
   ]
  },
  {
   "cell_type": "code",
   "execution_count": null,
   "metadata": {},
   "outputs": [],
   "source": [
    "X.shape"
   ]
  },
  {
   "cell_type": "code",
   "execution_count": null,
   "metadata": {},
   "outputs": [],
   "source": [
    "Y.shape"
   ]
  },
  {
   "cell_type": "code",
   "execution_count": null,
   "metadata": {},
   "outputs": [],
   "source": [
    "from sklearn.model_selection import train_test_split"
   ]
  },
  {
   "cell_type": "code",
   "execution_count": null,
   "metadata": {},
   "outputs": [],
   "source": [
    "X_train, X_test, Y_train, Y_test = train_test_split(X, Y, random_state=133)"
   ]
  },
  {
   "cell_type": "code",
   "execution_count": null,
   "metadata": {},
   "outputs": [],
   "source": [
    "from sklearn.preprocessing import MinMaxScaler\n",
    "MMS = MinMaxScaler(feature_range=(0, 1))\n",
    "\n",
    "X_scal = MMS.fit_transform(X_train)\n",
    "X_train = pd.DataFrame(X_scal)\n",
    "\n",
    "X_scal = MMS.transform(X_test)\n",
    "X_test = pd.DataFrame(X_scal)"
   ]
  },
  {
   "cell_type": "code",
   "execution_count": null,
   "metadata": {},
   "outputs": [],
   "source": [
    "from sklearn.linear_model import LinearRegression\n",
    "# from sklearn.metrics import mean_absolute_error\n",
    "\n",
    "# Instantiate\n",
    "linreg = LinearRegression()\n",
    "\n",
    "# Fit\n",
    "linreg.fit(X_train, y_train)\n",
    "\n",
    "# Predict\n",
    "y_pred = linreg.predict(X_test)\n",
    "\n",
    "# Evaluate\n",
    "# mean_absolute_error(y_pred, Y_test)"
   ]
  },
  {
   "cell_type": "code",
   "execution_count": null,
   "metadata": {},
   "outputs": [],
   "source": [
    "y_pred"
   ]
  },
  {
   "cell_type": "code",
   "execution_count": null,
   "metadata": {},
   "outputs": [],
   "source": [
    "from sklearn.tree import DecisionTreeRegressor\n",
    "from sklearn.metrics import mean_absolute_error\n",
    "\n",
    "# Instantiate the classifier\n",
    "tree = DecisionTreeRegressor()\n",
    "\n",
    "# Train model on training set\n",
    "tree.fit(X_train, y_train)\n",
    "\n",
    "# Predict\n",
    "y_pred = tree.predict(X_test)"
   ]
  },
  {
   "cell_type": "code",
   "execution_count": null,
   "metadata": {},
   "outputs": [],
   "source": []
  }
 ],
 "metadata": {
  "kernelspec": {
   "display_name": "Python 3",
   "language": "python",
   "name": "python3"
  }
 },
 "nbformat": 4,
 "nbformat_minor": 2
}
